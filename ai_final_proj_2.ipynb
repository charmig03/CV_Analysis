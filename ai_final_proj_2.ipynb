{
  "nbformat": 4,
  "nbformat_minor": 0,
  "metadata": {
    "colab": {
      "provenance": [],
      "include_colab_link": true
    },
    "kernelspec": {
      "name": "python3",
      "display_name": "Python 3"
    },
    "language_info": {
      "name": "python"
    }
  },
  "cells": [
    {
      "cell_type": "markdown",
      "metadata": {
        "id": "view-in-github",
        "colab_type": "text"
      },
      "source": [
        "<a href=\"https://colab.research.google.com/github/charmig03/CV_Analysis/blob/main/ai_final_proj_2.ipynb\" target=\"_parent\"><img src=\"https://colab.research.google.com/assets/colab-badge.svg\" alt=\"Open In Colab\"/></a>"
      ]
    },
    {
      "cell_type": "code",
      "execution_count": null,
      "metadata": {
        "id": "clCaO38MIo1b"
      },
      "outputs": [],
      "source": [
        "import pandas as pd"
      ]
    },
    {
      "cell_type": "code",
      "source": [
        "!pip install PyPDF2\n",
        "!pip install spacy"
      ],
      "metadata": {
        "id": "9-cPJlStIrKW"
      },
      "execution_count": null,
      "outputs": []
    },
    {
      "cell_type": "code",
      "source": [
        "!python -m spacy download en_core_web_sm"
      ],
      "metadata": {
        "id": "E4-Tv1sRIt1J"
      },
      "execution_count": null,
      "outputs": []
    },
    {
      "cell_type": "code",
      "source": [
        "pip install fitz"
      ],
      "metadata": {
        "id": "ZDve-L2sIwxp"
      },
      "execution_count": null,
      "outputs": []
    },
    {
      "cell_type": "code",
      "source": [
        "!pip install PyMuPDF"
      ],
      "metadata": {
        "id": "FKJHP5fxIw1E"
      },
      "execution_count": null,
      "outputs": []
    },
    {
      "cell_type": "markdown",
      "source": [
        "import fitz\n",
        "import spacy\n",
        "\n",
        "# Load the spaCy model\n",
        "nlp = spacy.load('en_core_web_sm')\n",
        "\n",
        "# Prompt the user for the PDF file name\n",
        "pdf_file = input('Enter the name of the PDF file: ')\n",
        "\n",
        "# Read the PDF file using PyMuPDF\n",
        "with fitz.open(pdf_file) as doc:\n",
        "    page = doc.load_page(0)\n",
        "    text = page.get_text()\n",
        "\n",
        "# Process the text with spaCy\n",
        "doc = nlp(text)\n",
        "\n",
        "# Initialize variables for storing the candidate's information\n",
        "name = ''\n",
        "skills = []\n",
        "education = ''\n",
        "personality = ''\n",
        "\n",
        "# Loop through the entities in the document\n",
        "for ent in doc.ents:\n",
        "    print(ent.text, ent.label_)\n",
        "    if ent.label_ == 'PERSON':\n",
        "        name = ent.text\n",
        "    elif ent.label_ == 'ORG' or ent.label_ == 'PRODUCT':\n",
        "        skills.append(ent.text)\n",
        "    elif ent.label_ == 'EDUCATION':\n",
        "        education = ent.text\n",
        "    elif ent.label_ == 'PERSONALITY':\n",
        "        personality = ent.text\n",
        "\n",
        "\n",
        "# Print out the candidate's information\n",
        "print('Name:', name)\n",
        "print('Skills:', skills)\n",
        "print('Education:', education)\n",
        "print('Personality:', personality)\n",
        "\n",
        "# Determine if the candidate is qualified based on their skills\n",
        "required_skills = ['Python', 'Machine Learning', 'Data Science', 'AWS', 'HTML', 'CSS', 'Php']\n",
        "\n",
        "if all(skill in skills for skill in required_skills):\n",
        "    print('This candidate is a good fit for the job!')\n",
        "else:\n",
        "    print('This candidate may not have all the required skills for the job.')"
      ],
      "metadata": {
        "id": "-Lb_xdXWdpwC"
      }
    },
    {
      "cell_type": "code",
      "source": [
        "import fitz\n",
        "import spacy\n",
        "\n",
        "# Load the spaCy model\n",
        "nlp = spacy.load('en_core_web_sm')\n",
        "\n",
        "# Prompt the user for the PDF file name\n",
        "pdf_file = input('Enter the name of the PDF file: ')\n",
        "\n",
        "# Read the PDF file using PyMuPDF\n",
        "with fitz.open(pdf_file) as doc:\n",
        "    page = doc.load_page(0)\n",
        "    text = page.get_text()\n",
        "\n",
        "# Process the text with spaCy\n",
        "doc = nlp(text)\n",
        "\n",
        "# Extract the skill entities from the document\n",
        "skills = [ent.text for ent in doc.ents if ent.label_ == 'ORG' or ent.label_ == 'PRODUCT']\n",
        "\n",
        "# Print out the candidate's skills\n",
        "print('Skills:', ', '.join(skills))\n",
        "\n",
        "\n"
      ],
      "metadata": {
        "colab": {
          "base_uri": "https://localhost:8080/"
        },
        "id": "QLVeMyS5Iw7_",
        "outputId": "ed5f38c3-a77d-4fc7-a26f-1bce4022bb76"
      },
      "execution_count": null,
      "outputs": [
        {
          "output_type": "stream",
          "name": "stdout",
          "text": [
            "Enter the name of the PDF file: mayur.pdf\n",
            "Skills: Information and Communication\n",
            "Technology Engineering, Exploratory Data Analysis\n",
            ", SECONDARY SCHOOL, Marwadi University, Text & Speech Converter, Alumni Portal, Smart Home Automation System, Arduino, UNO, Amazon ML Summer School 2022, Amazon, Applied Scientist, Selected for Machine Learning, Indian Space Research Organization &\n",
            "Indian Institute of Remote Sensing, AI Programming In Python, AWS, AWS DeepRacer Student League Tasks, Google Analytics for Beginners - Google, Processing & Visualizing Data Using\n",
            "Python - Coursera\n"
          ]
        }
      ]
    },
    {
      "cell_type": "code",
      "source": [],
      "metadata": {
        "id": "4OHYBORIIw_Y"
      },
      "execution_count": null,
      "outputs": []
    }
  ]
}